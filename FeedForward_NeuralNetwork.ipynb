{
 "cells": [
  {
   "cell_type": "code",
   "execution_count": 105,
   "id": "3b6ccba9-aa90-4923-a2ca-0076cb369900",
   "metadata": {},
   "outputs": [],
   "source": [
    "import numpy as np\n",
    "import math\n",
    "import matplotlib.pyplot as plt"
   ]
  },
  {
   "cell_type": "markdown",
   "id": "58b74602-8dc2-49b0-b09a-5915a0153568",
   "metadata": {},
   "source": [
    "Feed Forward Neural Network : two Linear Layers joined by Relu activation layer"
   ]
  },
  {
   "cell_type": "code",
   "execution_count": 111,
   "id": "dc823041-6504-4fd0-b768-ceb07ac5d920",
   "metadata": {},
   "outputs": [],
   "source": [
    "class FF_NeuralNetwork:\n",
    "    def __init__(self, input_dim , hidden_dim, output_dim):\n",
    "        self.params = {}\n",
    "        self.params['W1'] = np.random.randn(input_dim,hidden_dim)\n",
    "        self.params['b1'] = np.zeros(hidden_dim)\n",
    "        self.params['W2'] = np.random.randn(hidden_dim,output_dim)\n",
    "        self.params['b2'] = np.zeros(output_dim)\n",
    "        \n",
    "    def forward(self, X):\n",
    "        W1, b1 = self.params['W1'], self.params['b1']\n",
    "        W2, b2 = self.params['W2'], self.params['b2']\n",
    "        z1 = np.dot(X,W1)+b1\n",
    "        a1 = np.maximum(0,z1)\n",
    "        z2 = np.dot(a1, W2)+b2\n",
    "        exp_z = np.exp(z2)\n",
    "        probs = exp_z/np.sum(exp_z, axis = 1, keepdims = True)\n",
    "        return probs\n",
    "        \n",
    "    def fit(self, X, y,epochs: int, lr = 0.1):\n",
    "        for _ in range(epochs):\n",
    "            #forward_propagation\n",
    "            z1 = np.dot(X,self.params['W1'])+self.params['b1']\n",
    "            a1 = np.maximum(0,z1)\n",
    "            z2 = np.dot(a1,self.params['W2'])+self.params['b2']\n",
    "            exp_z = np.exp(z2)\n",
    "            probs = exp_z/np.sum(exp_z, axis = 1, keepdims = True)\n",
    "            \n",
    "            #backward_propagation\n",
    "            delta3 = probs\n",
    "            delta3[range(len(X)), y] -= 1\n",
    "            dw2 = np.dot(a1.T, delta3)\n",
    "            db2 = np.sum(delta3, axis = 0)\n",
    "            delta2 = np.dot(delta3, self.params['W2'].T)*(a1>0) # Derivative of ReLU\n",
    "            dw1 = np.dot(X.T, delta2)\n",
    "            db1 = np.sum(delta2, axis = 0)\n",
    "            \n",
    "            #updating the parameters\n",
    "            self.params['W1'] -= lr*dw1\n",
    "            self.params['b1'] -= lr*db1\n",
    "            self.params['W2'] -= lr*dw2\n",
    "            self.params['b2']  -= lr*db2\n"
   ]
  },
  {
   "cell_type": "code",
   "execution_count": 112,
   "id": "dc02cad7-2e1e-4fa9-9c9a-e2d7700b1746",
   "metadata": {},
   "outputs": [
    {
     "name": "stdout",
     "output_type": "stream",
     "text": [
      "[[0.91385317 0.08614683]\n",
      " [0.02481996 0.97518004]\n",
      " [0.03474627 0.96525373]\n",
      " [0.9541378  0.0458622 ]]\n",
      "[0 1 1 0]\n"
     ]
    }
   ],
   "source": [
    "X = np.array([[0, 0], [0, 1], [1, 0], [1, 1]])\n",
    "y = np.array([0, 1, 1, 0])\n",
    "\n",
    "# Initialize a neural network\n",
    "net = FF_NeuralNetwork(input_dim=2, hidden_dim=10, output_dim=2)\n",
    "\n",
    "# Train the neural network\n",
    "probs = net.fit(X, y, epochs=100)\n",
    "probs = net.forward(X)\n",
    "print(probs)\n",
    "predictions = np.argmax(probs, axis=1)\n",
    "print(predictions)"
   ]
  },
  {
   "cell_type": "code",
   "execution_count": null,
   "id": "59ff70e3-6649-4ec3-8ceb-3be85bc9ce41",
   "metadata": {},
   "outputs": [],
   "source": []
  },
  {
   "cell_type": "code",
   "execution_count": null,
   "id": "d59117c1-6a5a-4236-92f4-93b649b31228",
   "metadata": {},
   "outputs": [],
   "source": []
  },
  {
   "cell_type": "code",
   "execution_count": null,
   "id": "8435a029-e90e-4b45-8f80-4624445eb879",
   "metadata": {},
   "outputs": [],
   "source": []
  },
  {
   "cell_type": "code",
   "execution_count": null,
   "id": "bdffd087-e7ba-4c08-b403-ed48ded0faff",
   "metadata": {},
   "outputs": [],
   "source": []
  }
 ],
 "metadata": {
  "kernelspec": {
   "display_name": "Python 3 (ipykernel)",
   "language": "python",
   "name": "python3"
  },
  "language_info": {
   "codemirror_mode": {
    "name": "ipython",
    "version": 3
   },
   "file_extension": ".py",
   "mimetype": "text/x-python",
   "name": "python",
   "nbconvert_exporter": "python",
   "pygments_lexer": "ipython3",
   "version": "3.11.7"
  }
 },
 "nbformat": 4,
 "nbformat_minor": 5
}

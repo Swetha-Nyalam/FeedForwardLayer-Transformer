{
 "cells": [
  {
   "cell_type": "markdown",
   "id": "349b5fdc-ec10-413a-a079-97c82d003c31",
   "metadata": {},
   "source": [
    "Python implementation of a Feedforward Neural Network utilizing gradient descent and backpropagation for training"
   ]
  },
  {
   "cell_type": "code",
   "execution_count": null,
   "id": "343bb477-8f0c-4d3a-8bdf-079683105c16",
   "metadata": {},
   "outputs": [],
   "source": [
    "import numpy as np\n",
    "import math\n",
    "import matplotlib.pyplot as plt\n",
    "import torch\n",
    "import torch.nn as nn"
   ]
  },
  {
   "cell_type": "code",
   "execution_count": 34,
   "id": "60224347-bb4c-4c0c-9ab0-e201891ec82f",
   "metadata": {},
   "outputs": [],
   "source": [
    "class FFN_net:\n",
    "    def __init__(self, input_dim, hidden_dim, output_dim):\n",
    "        self.w1 = np.random.randn(input_dim,hidden_dim) # input_dim*hidden_dim\n",
    "        self.b1 = np.zeros(hidden_dim)\n",
    "        self.w2 = np.random.randn(hidden_dim, output_dim)\n",
    "        self.b2 = np.zeros(output_dim)\n",
    "        \n",
    "    def predict(self,X):\n",
    "        z1 = np.dot(X, self.w1)+self.b1 \n",
    "        a1 = np.maximum(0,z1)# ReLu activation function\n",
    "        z2 = np.dot(a1, self.w2)+self.b2\n",
    "        exp_z = np.exp(z2)\n",
    "        probs = exp_z/np.sum(exp_z, axis = 1, keepdims = True)\n",
    "        return probs\n",
    "        \n",
    "    def train(self, X, y, epochs, lr = 0.01):\n",
    "        #forward\n",
    "        for _ in range(epochs):\n",
    "            z1 = np.dot(X, self.w1)+self.b1\n",
    "            a1 = np.maximum(0,z1)# ReLu activation function\n",
    "            z2 = np.dot(a1, self.w2)+self.b2\n",
    "            exp_z = np.exp(z2)\n",
    "            probs = exp_z/np.sum(exp_z, axis = 1, keepdims = True)\n",
    "            #print(probs)\n",
    "            \n",
    "            #back_propagation\n",
    "            delta3 = probs\n",
    "            delta3[range(len(X)),y]-=1\n",
    "            dw2 = np.dot(a1.T,delta3)\n",
    "            db2 = np.sum(delta3, axis = 0)\n",
    "            delta2 = np.dot(delta3, self.w2.T)*(a1>0)\n",
    "            dw1 = np.dot(X.T,delta2)\n",
    "            db1 = np.sum(delta2, axis = 0)\n",
    "            \n",
    "            self.w1-= lr*dw1\n",
    "            self.w2-= lr*dw2\n",
    "            self.b1-= lr*db1\n",
    "            self.b2-= lr*db2      "
   ]
  },
  {
   "cell_type": "code",
   "execution_count": 35,
   "id": "20b4c648-b844-4a11-a890-5f9f927dd6b0",
   "metadata": {},
   "outputs": [
    {
     "name": "stdout",
     "output_type": "stream",
     "text": [
      "[[0.64055369 0.35944631]\n",
      " [0.37208717 0.62791283]\n",
      " [0.3512036  0.6487964 ]\n",
      " [0.61036874 0.38963126]]\n",
      "[0 1 1 0]\n"
     ]
    }
   ],
   "source": [
    "X = np.array([[0, 0], [0, 1], [1, 0], [1, 1]])\n",
    "y = np.array([0, 1, 1, 0])\n",
    "\n",
    "# Initialize a neural network\n",
    "net = FFN_net(input_dim=2, hidden_dim=10, output_dim=2)\n",
    "\n",
    "# Train the neural network\n",
    "probs = net.train(X, y, epochs=100)\n",
    "probs = net.predict(X)\n",
    "print(probs)\n",
    "predictions = np.argmax(probs, axis=1)\n",
    "print(predictions)"
   ]
  },
  {
   "cell_type": "markdown",
   "id": "51a7b3a1-2db6-4be2-a797-a36f1d5d39df",
   "metadata": {},
   "source": [
    "Implementation of a Feedforward Neural Network using PyTorch"
   ]
  },
  {
   "cell_type": "code",
   "execution_count": 85,
   "id": "0b89e26e-0f65-4940-b1b2-4afcb2769396",
   "metadata": {},
   "outputs": [],
   "source": [
    "class FF_net(nn.Module):\n",
    "    def __init__(self, input_dim, hidden_dim, output_dim):\n",
    "        super(FF_net, self).__init__()\n",
    "        self.layer1 = nn.Linear(input_dim,hidden_dim, dtype = torch.float)\n",
    "        self.relu = nn.ReLU()\n",
    "        self.layer2 = nn.Linear(hidden_dim, output_dim, dtype = torch.float)\n",
    "    def forward(self, X):\n",
    "        return self.layer2(self.relu(self.layer1(X)))"
   ]
  },
  {
   "cell_type": "code",
   "execution_count": 86,
   "id": "04208244-0521-42c4-8bdc-c82ebf0795cc",
   "metadata": {},
   "outputs": [
    {
     "name": "stdout",
     "output_type": "stream",
     "text": [
      "tensor([0, 1, 1, 0])\n"
     ]
    },
    {
     "data": {
      "text/plain": [
       "[<matplotlib.lines.Line2D at 0x168e48390>]"
      ]
     },
     "execution_count": 86,
     "metadata": {},
     "output_type": "execute_result"
    },
    {
     "data": {
      "image/png": "[encoded data removed]",
      "text/plain": [
       "<Figure size 640x480 with 1 Axes>"
      ]
     },
     "metadata": {},
     "output_type": "display_data"
    }
   ],
   "source": [
    "X = np.array([[0, 0], [0, 1], [1, 0], [1, 1]])\n",
    "y = np.array([[1,0],[0,1],[0,1], [1,0]])\n",
    "\n",
    "x_t = torch.tensor(X, dtype = torch.float)\n",
    "y_t = torch.tensor(y, dtype = torch.float)\n",
    "\n",
    "model = FF_net(2,10,2)\n",
    "loss_fn = nn.BCELoss()\n",
    "optimiser = torch.optim.SGD(model.parameters(), lr = 0.1)\n",
    "\n",
    "no_of_epochs = 1000\n",
    "\n",
    "def probs_predict(y_predict):\n",
    "    m = y_predict.shape[0]\n",
    "    y_binary = []\n",
    "    for i in range(m):\n",
    "        y_binary.append(torch.argmax(y_predict[i]).item())\n",
    "    return torch.tensor(y_binary)\n",
    "\n",
    "all_losses = []\n",
    "for _ in range(no_of_epochs):\n",
    "    y_pedict = model(x_t).squeeze()\n",
    "    output_probs = torch.sigmoid(y_pedict)\n",
    "    #print(output_probs)\n",
    "    loss = loss_fn(output_probs, y_t)\n",
    "    all_losses.append(loss.detach().numpy())\n",
    "    optimiser.zero_grad()\n",
    "    loss.backward()\n",
    "    optimiser.step()\n",
    "\n",
    "y_predict = probs_predict(torch.sigmoid(model(x_t)))\n",
    "print(y_predict)\n",
    "plt.plot(all_losses)\n",
    "    "
   ]
  }
 ],
 "metadata": {
  "kernelspec": {
   "display_name": "Python 3 (ipykernel)",
   "language": "python",
   "name": "python3"
  },
  "language_info": {
   "codemirror_mode": {
    "name": "ipython",
    "version": 3
   },
   "file_extension": ".py",
   "mimetype": "text/x-python",
   "name": "python",
   "nbconvert_exporter": "python",
   "pygments_lexer": "ipython3",
   "version": "3.11.7"
  }
 },
 "nbformat": 4,
 "nbformat_minor": 5
}
